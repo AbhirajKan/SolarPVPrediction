{
 "cells": [
  {
   "cell_type": "code",
   "execution_count": null,
   "metadata": {},
   "outputs": [],
   "source": [
    "while True:\n",
    "    a = int(input('How likely is it that Kogan are having a sale this month from 1-10? '))\n",
    "    if 1 <= int(a) <= 10:\n",
    "            break;\n",
    "    else:\n",
    "            print (\"Error Invalid Input\")\n",
    "while True:\n",
    "    b = int(input('How likely is it that Tom is going to hear about the sale from 1-10? '))\n",
    "    if 1 <= int(b) <= 10:\n",
    "            break;\n",
    "    else:\n",
    "            print (\"Error Invalid Input\")\n",
    "if a < 5 and b < 5:\n",
    "    print('Tom is spending money')\n",
    "else:\n",
    "    print(\"Dave wins this time\")"
   ]
  },
  {
   "cell_type": "code",
   "execution_count": null,
   "metadata": {},
   "outputs": [],
   "source": []
  }
 ],
 "metadata": {
  "kernelspec": {
   "display_name": "Python 3",
   "language": "python",
   "name": "python3"
  },
  "language_info": {
   "codemirror_mode": {
    "name": "ipython",
    "version": 3
   },
   "file_extension": ".py",
   "mimetype": "text/x-python",
   "name": "python",
   "nbconvert_exporter": "python",
   "pygments_lexer": "ipython3",
   "version": "3.6.5"
  }
 },
 "nbformat": 4,
 "nbformat_minor": 2
}
